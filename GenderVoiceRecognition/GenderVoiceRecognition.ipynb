{
 "cells": [
  {
   "cell_type": "markdown",
   "id": "48749c10",
   "metadata": {},
   "source": [
    "# February Minor Project"
   ]
  },
  {
   "cell_type": "code",
   "execution_count": 1,
   "id": "5de18e44",
   "metadata": {},
   "outputs": [],
   "source": [
    "import numpy as np\n",
    "import matplotlib.pyplot as plt\n",
    "import pandas as pd\n",
    "import mglearn\n",
    "\n",
    "from sklearn.metrics import confusion_matrix, classification_report, accuracy_score\n",
    "from sklearn.model_selection import train_test_split"
   ]
  },
  {
   "cell_type": "code",
   "execution_count": 2,
   "id": "e85a70be",
   "metadata": {},
   "outputs": [
    {
     "name": "stdout",
     "output_type": "stream",
     "text": [
      "(3168, 21)\n",
      "(3168, 20)\n",
      "(3168,)\n"
     ]
    }
   ],
   "source": [
    "df = pd.read_csv(\"voice.csv\")\n",
    "df.head()\n",
    "\n",
    "print(df.shape)\n",
    "\n",
    "x = df.iloc[:,:-1]\n",
    "y = df.iloc[:,-1]\n",
    "print(x.shape)\n",
    "print(y.shape)"
   ]
  },
  {
   "cell_type": "markdown",
   "id": "ca0b8de3",
   "metadata": {},
   "source": [
    "### 1) Remove/handle null values (if any)"
   ]
  },
  {
   "cell_type": "code",
   "execution_count": 3,
   "id": "858d9f7a",
   "metadata": {},
   "outputs": [
    {
     "data": {
      "text/plain": [
       "meanfreq    0\n",
       "sd          0\n",
       "median      0\n",
       "Q25         0\n",
       "Q75         0\n",
       "IQR         0\n",
       "skew        0\n",
       "kurt        0\n",
       "sp.ent      0\n",
       "sfm         0\n",
       "mode        0\n",
       "centroid    0\n",
       "meanfun     0\n",
       "minfun      0\n",
       "maxfun      0\n",
       "meandom     0\n",
       "mindom      0\n",
       "maxdom      0\n",
       "dfrange     0\n",
       "modindx     0\n",
       "label       0\n",
       "dtype: int64"
      ]
     },
     "execution_count": 3,
     "metadata": {},
     "output_type": "execute_result"
    }
   ],
   "source": [
    "df.isnull().sum()"
   ]
  },
  {
   "cell_type": "code",
   "execution_count": 4,
   "id": "057bd8bc",
   "metadata": {},
   "outputs": [
    {
     "data": {
      "text/plain": [
       "meanfreq    float64\n",
       "sd          float64\n",
       "median      float64\n",
       "Q25         float64\n",
       "Q75         float64\n",
       "IQR         float64\n",
       "skew        float64\n",
       "kurt        float64\n",
       "sp.ent      float64\n",
       "sfm         float64\n",
       "mode        float64\n",
       "centroid    float64\n",
       "meanfun     float64\n",
       "minfun      float64\n",
       "maxfun      float64\n",
       "meandom     float64\n",
       "mindom      float64\n",
       "maxdom      float64\n",
       "dfrange     float64\n",
       "modindx     float64\n",
       "label        object\n",
       "dtype: object"
      ]
     },
     "execution_count": 4,
     "metadata": {},
     "output_type": "execute_result"
    }
   ],
   "source": [
    "df.dtypes"
   ]
  },
  {
   "cell_type": "markdown",
   "id": "be03fb54",
   "metadata": {},
   "source": [
    "### 2) Depict percentage distribution of label on a pie chart"
   ]
  },
  {
   "cell_type": "code",
   "execution_count": 5,
   "id": "12bf960d",
   "metadata": {},
   "outputs": [
    {
     "name": "stdout",
     "output_type": "stream",
     "text": [
      "['female' 'male']\n",
      "data_pie  [1 1 1 ... 0 0 0]\n"
     ]
    },
    {
     "data": {
      "image/png": "[encoded data removed]",
      "text/plain": [
       "<Figure size 432x288 with 1 Axes>"
      ]
     },
     "metadata": {},
     "output_type": "display_data"
    }
   ],
   "source": [
    "from sklearn import preprocessing\n",
    "lb = preprocessing.LabelEncoder()\n",
    "\n",
    "labels = np.unique(df['label'])\n",
    "print(labels)\n",
    "\n",
    "\n",
    "\n",
    "data_pie = list(df['label'])\n",
    "# print(data_pie)\n",
    "\n",
    "data_pie = lb.fit_transform(data_pie)\n",
    "print(\"data_pie \",data_pie)\n",
    "\n",
    "data = df.groupby('label').size().plot(kind='pie',autopct = '%1.1f%%', title='Percentage distribution of label')\n",
    "\n",
    "\n",
    "#plt.pie(data_pie, labels=labels, colors=['#1f77b4'], autopct = '%1.1f%%',shadow=True, startangle=90 )\n",
    "#plt.axis('equal')\n",
    "#plt.show()"
   ]
  },
  {
   "cell_type": "markdown",
   "id": "cea798b1",
   "metadata": {},
   "source": [
    "### 3) Considering all the features as independent feature and label as dependent feature, split the dataset training and testing data with test size=20%"
   ]
  },
  {
   "cell_type": "code",
   "execution_count": 6,
   "id": "d48d426a",
   "metadata": {
    "scrolled": true
   },
   "outputs": [
    {
     "name": "stdout",
     "output_type": "stream",
     "text": [
      "(2534, 20)\n",
      "(634, 20)\n",
      "(2534,)\n",
      "(634,)\n"
     ]
    }
   ],
   "source": [
    "x_tr, x_te, y_tr, y_te = train_test_split(x, y, test_size=0.20)\n",
    "print(x_tr.shape)\n",
    "print(x_te.shape)\n",
    "print(y_tr.shape)\n",
    "print(y_te.shape)"
   ]
  },
  {
   "cell_type": "markdown",
   "id": "d1aeb9d7",
   "metadata": {},
   "source": [
    "### 4) Apply the following classifier models on training dataset and generate predictions for the test dataset\n"
   ]
  },
  {
   "cell_type": "markdown",
   "id": "805026be",
   "metadata": {},
   "source": [
    "### RandomForestClassifier"
   ]
  },
  {
   "cell_type": "code",
   "execution_count": 7,
   "id": "8b3e16d1",
   "metadata": {},
   "outputs": [],
   "source": [
    "from sklearn.ensemble import RandomForestClassifier"
   ]
  },
  {
   "cell_type": "code",
   "execution_count": 8,
   "id": "796faa32",
   "metadata": {},
   "outputs": [
    {
     "data": {
      "text/plain": [
       "RandomForestClassifier(max_depth=5, min_samples_split=10, n_estimators=50)"
      ]
     },
     "execution_count": 8,
     "metadata": {},
     "output_type": "execute_result"
    }
   ],
   "source": [
    "m1 = RandomForestClassifier(n_estimators=50, criterion='gini', max_depth=5, min_samples_split=10)\n",
    "\n",
    "m1.fit(x_tr, y_tr)"
   ]
  },
  {
   "cell_type": "code",
   "execution_count": 9,
   "id": "0746def5",
   "metadata": {},
   "outputs": [
    {
     "name": "stdout",
     "output_type": "stream",
     "text": [
      "Training score:  0.9810576164167324\n",
      "Testing score:  0.9794952681388013\n"
     ]
    }
   ],
   "source": [
    "# Accuracy\n",
    "\n",
    "print(\"Training score: \", m1.score(x_tr,y_tr))\n",
    "print(\"Testing score: \", m1.score(x_te, y_te))"
   ]
  },
  {
   "cell_type": "code",
   "execution_count": 10,
   "id": "16035b9c",
   "metadata": {},
   "outputs": [],
   "source": [
    "ypred_m1 = m1.predict(x_te)\n",
    "# print(ypred_m1)"
   ]
  },
  {
   "cell_type": "code",
   "execution_count": 11,
   "id": "c579e171",
   "metadata": {},
   "outputs": [
    {
     "name": "stdout",
     "output_type": "stream",
     "text": [
      "[[294   7]\n",
      " [  6 327]]\n",
      "              precision    recall  f1-score   support\n",
      "\n",
      "      female       0.98      0.98      0.98       301\n",
      "        male       0.98      0.98      0.98       333\n",
      "\n",
      "    accuracy                           0.98       634\n",
      "   macro avg       0.98      0.98      0.98       634\n",
      "weighted avg       0.98      0.98      0.98       634\n",
      "\n"
     ]
    }
   ],
   "source": [
    "cm_m1 = confusion_matrix(y_te, ypred_m1)\n",
    "print(cm_m1)\n",
    "print(classification_report(y_te, ypred_m1))"
   ]
  },
  {
   "cell_type": "markdown",
   "id": "c1757bc8",
   "metadata": {},
   "source": [
    "### DecisionTreeClassifier"
   ]
  },
  {
   "cell_type": "code",
   "execution_count": 12,
   "id": "94e6e37d",
   "metadata": {},
   "outputs": [],
   "source": [
    "from sklearn.tree import DecisionTreeClassifier"
   ]
  },
  {
   "cell_type": "code",
   "execution_count": 13,
   "id": "cfab0088",
   "metadata": {},
   "outputs": [
    {
     "data": {
      "text/plain": [
       "RandomForestClassifier(criterion='entropy', max_depth=4, min_samples_split=10)"
      ]
     },
     "execution_count": 13,
     "metadata": {},
     "output_type": "execute_result"
    }
   ],
   "source": [
    "m2 = RandomForestClassifier(criterion='entropy', max_depth=4, min_samples_split=10)\n",
    "\n",
    "m2.fit(x_tr, y_tr)"
   ]
  },
  {
   "cell_type": "code",
   "execution_count": 14,
   "id": "3fab9759",
   "metadata": {
    "scrolled": true
   },
   "outputs": [
    {
     "name": "stdout",
     "output_type": "stream",
     "text": [
      "Training score:  0.9779005524861878\n",
      "Testing score:  0.9763406940063092\n"
     ]
    }
   ],
   "source": [
    "# Accuracy\n",
    "\n",
    "print(\"Training score: \", m2.score(x_tr,y_tr))\n",
    "print(\"Testing score: \", m2.score(x_te, y_te))"
   ]
  },
  {
   "cell_type": "code",
   "execution_count": 15,
   "id": "9b5c3166",
   "metadata": {},
   "outputs": [],
   "source": [
    "ypred_m2 = m2.predict(x_te)\n",
    "# print(ypred_m1)"
   ]
  },
  {
   "cell_type": "code",
   "execution_count": 16,
   "id": "57151659",
   "metadata": {},
   "outputs": [
    {
     "name": "stdout",
     "output_type": "stream",
     "text": [
      "[[291  10]\n",
      " [  5 328]]\n",
      "              precision    recall  f1-score   support\n",
      "\n",
      "      female       0.98      0.97      0.97       301\n",
      "        male       0.97      0.98      0.98       333\n",
      "\n",
      "    accuracy                           0.98       634\n",
      "   macro avg       0.98      0.98      0.98       634\n",
      "weighted avg       0.98      0.98      0.98       634\n",
      "\n"
     ]
    }
   ],
   "source": [
    "cm_m2 = confusion_matrix(y_te, ypred_m2)\n",
    "print(cm_m2)\n",
    "print(classification_report(y_te, ypred_m2))"
   ]
  },
  {
   "cell_type": "markdown",
   "id": "98370bcb",
   "metadata": {},
   "source": [
    "### KNN classifier"
   ]
  },
  {
   "cell_type": "code",
   "execution_count": 17,
   "id": "3f87621b",
   "metadata": {},
   "outputs": [],
   "source": [
    "from sklearn.neighbors import KNeighborsClassifier"
   ]
  },
  {
   "cell_type": "code",
   "execution_count": 18,
   "id": "d1607204",
   "metadata": {},
   "outputs": [
    {
     "data": {
      "text/plain": [
       "KNeighborsClassifier(n_neighbors=17)"
      ]
     },
     "execution_count": 18,
     "metadata": {},
     "output_type": "execute_result"
    }
   ],
   "source": [
    "m3= KNeighborsClassifier(n_neighbors=17)\n",
    "\n",
    "m3.fit(x_tr, y_tr)"
   ]
  },
  {
   "cell_type": "code",
   "execution_count": 19,
   "id": "7f9b0b52",
   "metadata": {},
   "outputs": [
    {
     "name": "stdout",
     "output_type": "stream",
     "text": [
      "Training score:  0.7324388318863457\n",
      "Testing score:  0.7318611987381703\n"
     ]
    }
   ],
   "source": [
    " # Accuracy\n",
    "\n",
    "print(\"Training score: \", m3.score(x_tr,y_tr))\n",
    "print(\"Testing score: \", m3.score(x_te, y_te))"
   ]
  },
  {
   "cell_type": "code",
   "execution_count": 20,
   "id": "6ed7175e",
   "metadata": {},
   "outputs": [],
   "source": [
    "ypred_m3 = m3.predict(x_te)\n",
    "# print(ypred_m1)"
   ]
  },
  {
   "cell_type": "code",
   "execution_count": 21,
   "id": "17219d60",
   "metadata": {},
   "outputs": [
    {
     "name": "stdout",
     "output_type": "stream",
     "text": [
      "[[214  87]\n",
      " [ 83 250]]\n",
      "              precision    recall  f1-score   support\n",
      "\n",
      "      female       0.72      0.71      0.72       301\n",
      "        male       0.74      0.75      0.75       333\n",
      "\n",
      "    accuracy                           0.73       634\n",
      "   macro avg       0.73      0.73      0.73       634\n",
      "weighted avg       0.73      0.73      0.73       634\n",
      "\n"
     ]
    }
   ],
   "source": [
    "cm_m3 = confusion_matrix(y_te, ypred_m3)\n",
    "print(cm_m3)\n",
    "print(classification_report(y_te, ypred_m3))"
   ]
  },
  {
   "cell_type": "markdown",
   "id": "802b11e6",
   "metadata": {},
   "source": [
    "### Logistic Regression"
   ]
  },
  {
   "cell_type": "code",
   "execution_count": 22,
   "id": "19e8264a",
   "metadata": {},
   "outputs": [],
   "source": [
    "from sklearn.linear_model import LogisticRegression"
   ]
  },
  {
   "cell_type": "code",
   "execution_count": 23,
   "id": "2856a849",
   "metadata": {},
   "outputs": [
    {
     "data": {
      "text/plain": [
       "LogisticRegression(solver='liblinear')"
      ]
     },
     "execution_count": 23,
     "metadata": {},
     "output_type": "execute_result"
    }
   ],
   "source": [
    "m4 = LogisticRegression(solver='liblinear')\n",
    "\n",
    "m4.fit(x_tr, y_tr)"
   ]
  },
  {
   "cell_type": "code",
   "execution_count": 24,
   "id": "e40b0783",
   "metadata": {},
   "outputs": [
    {
     "name": "stdout",
     "output_type": "stream",
     "text": [
      "Training score:  0.9076558800315706\n",
      "Testing score:  0.9227129337539433\n"
     ]
    }
   ],
   "source": [
    " # Accuracy\n",
    "\n",
    "print(\"Training score: \", m4.score(x_tr,y_tr))\n",
    "print(\"Testing score: \", m4.score(x_te, y_te))"
   ]
  },
  {
   "cell_type": "code",
   "execution_count": 25,
   "id": "7d4da30c",
   "metadata": {},
   "outputs": [],
   "source": [
    "ypred_m4 = m4.predict(x_te)\n",
    "# print(ypred_m1)"
   ]
  },
  {
   "cell_type": "code",
   "execution_count": 26,
   "id": "03e2ef30",
   "metadata": {},
   "outputs": [
    {
     "name": "stdout",
     "output_type": "stream",
     "text": [
      "[[261  40]\n",
      " [  9 324]]\n",
      "              precision    recall  f1-score   support\n",
      "\n",
      "      female       0.97      0.87      0.91       301\n",
      "        male       0.89      0.97      0.93       333\n",
      "\n",
      "    accuracy                           0.92       634\n",
      "   macro avg       0.93      0.92      0.92       634\n",
      "weighted avg       0.93      0.92      0.92       634\n",
      "\n"
     ]
    }
   ],
   "source": [
    "cm_m4 = confusion_matrix(y_te, ypred_m4)\n",
    "print(cm_m4)\n",
    "print(classification_report(y_te, ypred_m4))"
   ]
  },
  {
   "cell_type": "markdown",
   "id": "b9e6e06c",
   "metadata": {},
   "source": [
    "### SVC classifier"
   ]
  },
  {
   "cell_type": "code",
   "execution_count": 27,
   "id": "91d1c4e7",
   "metadata": {},
   "outputs": [],
   "source": [
    "from sklearn.svm import SVC"
   ]
  },
  {
   "cell_type": "code",
   "execution_count": 28,
   "id": "44a310d8",
   "metadata": {},
   "outputs": [
    {
     "data": {
      "text/plain": [
       "SVC(C=1, kernel='linear')"
      ]
     },
     "execution_count": 28,
     "metadata": {},
     "output_type": "execute_result"
    }
   ],
   "source": [
    "m5 = SVC(kernel=\"linear\", C=1)\n",
    "\n",
    "m5.fit(x_tr, y_tr)"
   ]
  },
  {
   "cell_type": "code",
   "execution_count": 29,
   "id": "c7238722",
   "metadata": {},
   "outputs": [
    {
     "name": "stdout",
     "output_type": "stream",
     "text": [
      "Training score:  0.9210734017363852\n",
      "Testing score:  0.9337539432176656\n"
     ]
    }
   ],
   "source": [
    " # Accuracy\n",
    "\n",
    "print(\"Training score: \", m5.score(x_tr,y_tr))\n",
    "print(\"Testing score: \", m5.score(x_te, y_te))"
   ]
  },
  {
   "cell_type": "code",
   "execution_count": 30,
   "id": "4942fbb3",
   "metadata": {},
   "outputs": [],
   "source": [
    "ypred_m5 = m5.predict(x_te)\n",
    "# print(ypred_m1)"
   ]
  },
  {
   "cell_type": "code",
   "execution_count": 31,
   "id": "4dd8c256",
   "metadata": {},
   "outputs": [
    {
     "name": "stdout",
     "output_type": "stream",
     "text": [
      "[[264  37]\n",
      " [  5 328]]\n",
      "              precision    recall  f1-score   support\n",
      "\n",
      "      female       0.98      0.88      0.93       301\n",
      "        male       0.90      0.98      0.94       333\n",
      "\n",
      "    accuracy                           0.93       634\n",
      "   macro avg       0.94      0.93      0.93       634\n",
      "weighted avg       0.94      0.93      0.93       634\n",
      "\n"
     ]
    }
   ],
   "source": [
    "cm_m5 = confusion_matrix(y_te, ypred_m5)\n",
    "print(cm_m5)\n",
    "print(classification_report(y_te, ypred_m5))"
   ]
  },
  {
   "cell_type": "markdown",
   "id": "d01f7497",
   "metadata": {},
   "source": [
    "### 6) Result"
   ]
  },
  {
   "cell_type": "code",
   "execution_count": 32,
   "id": "b7b4a61a",
   "metadata": {
    "scrolled": true
   },
   "outputs": [
    {
     "name": "stdout",
     "output_type": "stream",
     "text": [
      "DecisionTree Accuracy:  0.9763406940063092\n",
      "RandomForest Accuracy:  0.9794952681388013\n",
      "KNNClassifer Accuracy:  0.7318611987381703\n",
      "LogisticRegression Accuracy:  0.9227129337539433\n",
      "SVMClassifier Accuracy:  0.9337539432176656\n"
     ]
    }
   ],
   "source": [
    "print(\"DecisionTree Accuracy: \",m2.score(x_te,y_te))\n",
    "print(\"RandomForest Accuracy: \",m1.score(x_te,y_te))\n",
    "print(\"KNNClassifer Accuracy: \",m3.score(x_te,y_te))\n",
    "print(\"LogisticRegression Accuracy: \",m4.score(x_te,y_te))\n",
    "print(\"SVMClassifier Accuracy: \",m5.score(x_te,y_te))"
   ]
  },
  {
   "cell_type": "code",
   "execution_count": 33,
   "id": "e9537172",
   "metadata": {},
   "outputs": [
    {
     "name": "stdout",
     "output_type": "stream",
     "text": [
      "Best Suitable model is RandomForestClassifier(max_depth=5, min_samples_split=10, n_estimators=50)  and accuracy is  0.9794952681388013\n"
     ]
    }
   ],
   "source": [
    "maxi = m1.score(x_te, y_te);\n",
    "best = m1;\n",
    "for i in [m1, m2, m3, m4, m5]:\n",
    "    if i.score(x_te,y_te)>maxi:\n",
    "        maxi = i.score(x_te,y_te)\n",
    "        best = i\n",
    "\n",
    "print(\"Best Suitable model is\",best,\" and accuracy is \",maxi)\n"
   ]
  }
 ],
 "metadata": {
  "kernelspec": {
   "display_name": "Python 3 (ipykernel)",
   "language": "python",
   "name": "python3"
  },
  "language_info": {
   "codemirror_mode": {
    "name": "ipython",
    "version": 3
   },
   "file_extension": ".py",
   "mimetype": "text/x-python",
   "name": "python",
   "nbconvert_exporter": "python",
   "pygments_lexer": "ipython3",
   "version": "3.9.7"
  }
 },
 "nbformat": 4,
 "nbformat_minor": 5
}
