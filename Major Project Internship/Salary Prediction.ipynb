{
 "cells": [
  {
   "cell_type": "markdown",
   "id": "3fde7008",
   "metadata": {},
   "source": [
    "# Major Project"
   ]
  },
  {
   "cell_type": "markdown",
   "id": "cd159b0c",
   "metadata": {},
   "source": [
    "### Project Name:\n",
    " Machine Learning February Major Project\n",
    "### Problem statement: \n",
    "Create a classification model to predict whether a person makes over $50k a \n",
    "year"
   ]
  },
  {
   "cell_type": "code",
   "execution_count": 1,
   "id": "da1438c8",
   "metadata": {},
   "outputs": [],
   "source": [
    "# importing all necessary libraries\n",
    "\n",
    "import pandas as pd\n",
    "import numpy as np\n",
    "import matplotlib.pyplot as plt\n",
    "\n",
    "from sklearn.model_selection import train_test_split\n",
    "from sklearn.preprocessing import LabelEncoder\n",
    "lb = LabelEncoder()"
   ]
  },
  {
   "cell_type": "markdown",
   "id": "235e1aa8",
   "metadata": {},
   "source": [
    "#### Reading dataset"
   ]
  },
  {
   "cell_type": "code",
   "execution_count": 2,
   "id": "e745d1bf",
   "metadata": {},
   "outputs": [
    {
     "data": {
      "text/html": [
       "<div>\n",
       "<style scoped>\n",
       "    .dataframe tbody tr th:only-of-type {\n",
       "        vertical-align: middle;\n",
       "    }\n",
       "\n",
       "    .dataframe tbody tr th {\n",
       "        vertical-align: top;\n",
       "    }\n",
       "\n",
       "    .dataframe thead th {\n",
       "        text-align: right;\n",
       "    }\n",
       "</style>\n",
       "<table border=\"1\" class=\"dataframe\">\n",
       "  <thead>\n",
       "    <tr style=\"text-align: right;\">\n",
       "      <th></th>\n",
       "      <th>Age</th>\n",
       "      <th>Workclass</th>\n",
       "      <th>Fnlwgt</th>\n",
       "      <th>Education</th>\n",
       "      <th>education_num</th>\n",
       "      <th>marital_status</th>\n",
       "      <th>occupation</th>\n",
       "      <th>relationship</th>\n",
       "      <th>race</th>\n",
       "      <th>sex</th>\n",
       "      <th>capital_gain</th>\n",
       "      <th>capital_loss</th>\n",
       "      <th>hours_per_week</th>\n",
       "      <th>native_country</th>\n",
       "      <th>income</th>\n",
       "    </tr>\n",
       "  </thead>\n",
       "  <tbody>\n",
       "    <tr>\n",
       "      <th>0</th>\n",
       "      <td>39</td>\n",
       "      <td>State-gov</td>\n",
       "      <td>77516</td>\n",
       "      <td>Bachelors</td>\n",
       "      <td>13</td>\n",
       "      <td>Never-married</td>\n",
       "      <td>Adm-clerical</td>\n",
       "      <td>Not-in-family</td>\n",
       "      <td>White</td>\n",
       "      <td>Male</td>\n",
       "      <td>2174</td>\n",
       "      <td>0</td>\n",
       "      <td>40</td>\n",
       "      <td>United-States</td>\n",
       "      <td>&lt;=50K</td>\n",
       "    </tr>\n",
       "    <tr>\n",
       "      <th>1</th>\n",
       "      <td>50</td>\n",
       "      <td>Self-emp-not-inc</td>\n",
       "      <td>83311</td>\n",
       "      <td>Bachelors</td>\n",
       "      <td>13</td>\n",
       "      <td>Married-civ-spouse</td>\n",
       "      <td>Exec-managerial</td>\n",
       "      <td>Husband</td>\n",
       "      <td>White</td>\n",
       "      <td>Male</td>\n",
       "      <td>0</td>\n",
       "      <td>0</td>\n",
       "      <td>13</td>\n",
       "      <td>United-States</td>\n",
       "      <td>&lt;=50K</td>\n",
       "    </tr>\n",
       "    <tr>\n",
       "      <th>2</th>\n",
       "      <td>38</td>\n",
       "      <td>Private</td>\n",
       "      <td>215646</td>\n",
       "      <td>HS-grad</td>\n",
       "      <td>9</td>\n",
       "      <td>Divorced</td>\n",
       "      <td>Handlers-cleaners</td>\n",
       "      <td>Not-in-family</td>\n",
       "      <td>White</td>\n",
       "      <td>Male</td>\n",
       "      <td>0</td>\n",
       "      <td>0</td>\n",
       "      <td>40</td>\n",
       "      <td>United-States</td>\n",
       "      <td>&lt;=50K</td>\n",
       "    </tr>\n",
       "    <tr>\n",
       "      <th>3</th>\n",
       "      <td>53</td>\n",
       "      <td>Private</td>\n",
       "      <td>234721</td>\n",
       "      <td>11th</td>\n",
       "      <td>7</td>\n",
       "      <td>Married-civ-spouse</td>\n",
       "      <td>Handlers-cleaners</td>\n",
       "      <td>Husband</td>\n",
       "      <td>Black</td>\n",
       "      <td>Male</td>\n",
       "      <td>0</td>\n",
       "      <td>0</td>\n",
       "      <td>40</td>\n",
       "      <td>United-States</td>\n",
       "      <td>&lt;=50K</td>\n",
       "    </tr>\n",
       "    <tr>\n",
       "      <th>4</th>\n",
       "      <td>28</td>\n",
       "      <td>Private</td>\n",
       "      <td>338409</td>\n",
       "      <td>Bachelors</td>\n",
       "      <td>13</td>\n",
       "      <td>Married-civ-spouse</td>\n",
       "      <td>Prof-specialty</td>\n",
       "      <td>Wife</td>\n",
       "      <td>Black</td>\n",
       "      <td>Female</td>\n",
       "      <td>0</td>\n",
       "      <td>0</td>\n",
       "      <td>40</td>\n",
       "      <td>Cuba</td>\n",
       "      <td>&lt;=50K</td>\n",
       "    </tr>\n",
       "  </tbody>\n",
       "</table>\n",
       "</div>"
      ],
      "text/plain": [
       "   Age          Workclass  Fnlwgt   Education  education_num  \\\n",
       "0   39          State-gov   77516   Bachelors             13   \n",
       "1   50   Self-emp-not-inc   83311   Bachelors             13   \n",
       "2   38            Private  215646     HS-grad              9   \n",
       "3   53            Private  234721        11th              7   \n",
       "4   28            Private  338409   Bachelors             13   \n",
       "\n",
       "        marital_status          occupation    relationship    race      sex  \\\n",
       "0        Never-married        Adm-clerical   Not-in-family   White     Male   \n",
       "1   Married-civ-spouse     Exec-managerial         Husband   White     Male   \n",
       "2             Divorced   Handlers-cleaners   Not-in-family   White     Male   \n",
       "3   Married-civ-spouse   Handlers-cleaners         Husband   Black     Male   \n",
       "4   Married-civ-spouse      Prof-specialty            Wife   Black   Female   \n",
       "\n",
       "   capital_gain  capital_loss  hours_per_week  native_country  income  \n",
       "0          2174             0              40   United-States   <=50K  \n",
       "1             0             0              13   United-States   <=50K  \n",
       "2             0             0              40   United-States   <=50K  \n",
       "3             0             0              40   United-States   <=50K  \n",
       "4             0             0              40            Cuba   <=50K  "
      ]
     },
     "execution_count": 2,
     "metadata": {},
     "output_type": "execute_result"
    }
   ],
   "source": [
    "df = pd.read_csv('dataset.csv')\n",
    "df.head()"
   ]
  },
  {
   "cell_type": "markdown",
   "id": "2a6235f5",
   "metadata": {},
   "source": [
    "#### 2) Remove handle null values (if any)."
   ]
  },
  {
   "cell_type": "code",
   "execution_count": 3,
   "id": "5becdd58",
   "metadata": {},
   "outputs": [
    {
     "data": {
      "text/plain": [
       "Age               0\n",
       "Workclass         0\n",
       "Fnlwgt            0\n",
       "Education         0\n",
       "education_num     0\n",
       "marital_status    0\n",
       "occupation        0\n",
       "relationship      0\n",
       "race              0\n",
       "sex               0\n",
       "capital_gain      0\n",
       "capital_loss      0\n",
       "hours_per_week    0\n",
       "native_country    0\n",
       "income            0\n",
       "dtype: int64"
      ]
     },
     "execution_count": 3,
     "metadata": {},
     "output_type": "execute_result"
    }
   ],
   "source": [
    "# checking for any null values\n",
    "df.isnull().sum()"
   ]
  },
  {
   "cell_type": "code",
   "execution_count": 4,
   "id": "5a76b1d2",
   "metadata": {},
   "outputs": [
    {
     "data": {
      "text/plain": [
       "Age                int64\n",
       "Workclass         object\n",
       "Fnlwgt             int64\n",
       "Education         object\n",
       "education_num      int64\n",
       "marital_status    object\n",
       "occupation        object\n",
       "relationship      object\n",
       "race              object\n",
       "sex               object\n",
       "capital_gain       int64\n",
       "capital_loss       int64\n",
       "hours_per_week     int64\n",
       "native_country    object\n",
       "income            object\n",
       "dtype: object"
      ]
     },
     "execution_count": 4,
     "metadata": {},
     "output_type": "execute_result"
    }
   ],
   "source": [
    "# checking datatypes of each column\n",
    "df.dtypes"
   ]
  },
  {
   "cell_type": "markdown",
   "id": "52a1e284",
   "metadata": {},
   "source": [
    "#### Transforming all object datatype to int or float datatype"
   ]
  },
  {
   "cell_type": "code",
   "execution_count": 5,
   "id": "30bac508",
   "metadata": {},
   "outputs": [
    {
     "name": "stdout",
     "output_type": "stream",
     "text": [
      " Private             22696\n",
      " Self-emp-not-inc     2541\n",
      " Local-gov            2093\n",
      " ?                    1836\n",
      " State-gov            1298\n",
      " Self-emp-inc         1116\n",
      " Federal-gov           960\n",
      " Without-pay            14\n",
      " Never-worked            7\n",
      "Name: Workclass, dtype: int64\n"
     ]
    }
   ],
   "source": [
    "print(df['Workclass'].value_counts())"
   ]
  },
  {
   "cell_type": "code",
   "execution_count": 6,
   "id": "e3fa5d99",
   "metadata": {},
   "outputs": [
    {
     "data": {
      "text/plain": [
       "4    22696\n",
       "6     2541\n",
       "2     2093\n",
       "0     1836\n",
       "7     1298\n",
       "5     1116\n",
       "1      960\n",
       "8       14\n",
       "3        7\n",
       "Name: Workclass, dtype: int64"
      ]
     },
     "execution_count": 6,
     "metadata": {},
     "output_type": "execute_result"
    }
   ],
   "source": [
    "df['Workclass'] = lb.fit_transform(df['Workclass'])\n",
    "df['Workclass'].value_counts()"
   ]
  },
  {
   "cell_type": "code",
   "execution_count": 7,
   "id": "dbd6bd8e",
   "metadata": {},
   "outputs": [
    {
     "name": "stdout",
     "output_type": "stream",
     "text": [
      " Married-civ-spouse       14976\n",
      " Never-married            10683\n",
      " Divorced                  4443\n",
      " Separated                 1025\n",
      " Widowed                    993\n",
      " Married-spouse-absent      418\n",
      " Married-AF-spouse           23\n",
      "Name: marital_status, dtype: int64\n"
     ]
    }
   ],
   "source": [
    "print(df['marital_status'].value_counts())"
   ]
  },
  {
   "cell_type": "code",
   "execution_count": 8,
   "id": "608baec2",
   "metadata": {},
   "outputs": [
    {
     "data": {
      "text/plain": [
       "11    10501\n",
       "15     7291\n",
       "9      5355\n",
       "12     1723\n",
       "8      1382\n",
       "1      1175\n",
       "7      1067\n",
       "0       933\n",
       "5       646\n",
       "14      576\n",
       "6       514\n",
       "2       433\n",
       "10      413\n",
       "4       333\n",
       "3       168\n",
       "13       51\n",
       "Name: Education, dtype: int64"
      ]
     },
     "execution_count": 8,
     "metadata": {},
     "output_type": "execute_result"
    }
   ],
   "source": [
    "df['Education'] = lb.fit_transform(df['Education'])\n",
    "df['Education'].value_counts()"
   ]
  },
  {
   "cell_type": "code",
   "execution_count": 9,
   "id": "e687f7b2",
   "metadata": {},
   "outputs": [
    {
     "name": "stdout",
     "output_type": "stream",
     "text": [
      " Married-civ-spouse       14976\n",
      " Never-married            10683\n",
      " Divorced                  4443\n",
      " Separated                 1025\n",
      " Widowed                    993\n",
      " Married-spouse-absent      418\n",
      " Married-AF-spouse           23\n",
      "Name: marital_status, dtype: int64\n"
     ]
    }
   ],
   "source": [
    "print(df['marital_status'].value_counts())"
   ]
  },
  {
   "cell_type": "code",
   "execution_count": 10,
   "id": "88e55b5a",
   "metadata": {},
   "outputs": [
    {
     "data": {
      "text/plain": [
       "2    14976\n",
       "4    10683\n",
       "0     4443\n",
       "5     1025\n",
       "6      993\n",
       "3      418\n",
       "1       23\n",
       "Name: marital_status, dtype: int64"
      ]
     },
     "execution_count": 10,
     "metadata": {},
     "output_type": "execute_result"
    }
   ],
   "source": [
    "df['marital_status'] = lb.fit_transform(df['marital_status'])\n",
    "df['marital_status'].value_counts()"
   ]
  },
  {
   "cell_type": "code",
   "execution_count": 11,
   "id": "6830fd3d",
   "metadata": {},
   "outputs": [
    {
     "name": "stdout",
     "output_type": "stream",
     "text": [
      " Prof-specialty       4140\n",
      " Craft-repair         4099\n",
      " Exec-managerial      4066\n",
      " Adm-clerical         3770\n",
      " Sales                3650\n",
      " Other-service        3295\n",
      " Machine-op-inspct    2002\n",
      " ?                    1843\n",
      " Transport-moving     1597\n",
      " Handlers-cleaners    1370\n",
      " Farming-fishing       994\n",
      " Tech-support          928\n",
      " Protective-serv       649\n",
      " Priv-house-serv       149\n",
      " Armed-Forces            9\n",
      "Name: occupation, dtype: int64\n"
     ]
    }
   ],
   "source": [
    "print(df['occupation'].value_counts())"
   ]
  },
  {
   "cell_type": "code",
   "execution_count": 12,
   "id": "800acd84",
   "metadata": {},
   "outputs": [
    {
     "data": {
      "text/plain": [
       "10    4140\n",
       "3     4099\n",
       "4     4066\n",
       "1     3770\n",
       "12    3650\n",
       "8     3295\n",
       "7     2002\n",
       "0     1843\n",
       "14    1597\n",
       "6     1370\n",
       "5      994\n",
       "13     928\n",
       "11     649\n",
       "9      149\n",
       "2        9\n",
       "Name: occupation, dtype: int64"
      ]
     },
     "execution_count": 12,
     "metadata": {},
     "output_type": "execute_result"
    }
   ],
   "source": [
    "df['occupation'] = lb.fit_transform(df['occupation'])\n",
    "df['occupation'].value_counts()"
   ]
  },
  {
   "cell_type": "code",
   "execution_count": 13,
   "id": "184ba28f",
   "metadata": {},
   "outputs": [
    {
     "name": "stdout",
     "output_type": "stream",
     "text": [
      " Husband           13193\n",
      " Not-in-family      8305\n",
      " Own-child          5068\n",
      " Unmarried          3446\n",
      " Wife               1568\n",
      " Other-relative      981\n",
      "Name: relationship, dtype: int64\n"
     ]
    }
   ],
   "source": [
    "print(df['relationship'].value_counts())"
   ]
  },
  {
   "cell_type": "code",
   "execution_count": 14,
   "id": "74bfa650",
   "metadata": {},
   "outputs": [
    {
     "data": {
      "text/plain": [
       "0    13193\n",
       "1     8305\n",
       "3     5068\n",
       "4     3446\n",
       "5     1568\n",
       "2      981\n",
       "Name: relationship, dtype: int64"
      ]
     },
     "execution_count": 14,
     "metadata": {},
     "output_type": "execute_result"
    }
   ],
   "source": [
    "df['relationship'] = lb.fit_transform(df['relationship'])\n",
    "df['relationship'].value_counts()"
   ]
  },
  {
   "cell_type": "code",
   "execution_count": 15,
   "id": "853fac71",
   "metadata": {},
   "outputs": [
    {
     "name": "stdout",
     "output_type": "stream",
     "text": [
      " White                 27816\n",
      " Black                  3124\n",
      " Asian-Pac-Islander     1039\n",
      " Amer-Indian-Eskimo      311\n",
      " Other                   271\n",
      "Name: race, dtype: int64\n"
     ]
    }
   ],
   "source": [
    "print(df['race'].value_counts())"
   ]
  },
  {
   "cell_type": "code",
   "execution_count": 16,
   "id": "469e7e42",
   "metadata": {},
   "outputs": [
    {
     "data": {
      "text/plain": [
       "4    27816\n",
       "2     3124\n",
       "1     1039\n",
       "0      311\n",
       "3      271\n",
       "Name: race, dtype: int64"
      ]
     },
     "execution_count": 16,
     "metadata": {},
     "output_type": "execute_result"
    }
   ],
   "source": [
    "df['race'] = lb.fit_transform(df['race'])\n",
    "df['race'].value_counts()"
   ]
  },
  {
   "cell_type": "code",
   "execution_count": 17,
   "id": "9f7ff56b",
   "metadata": {},
   "outputs": [
    {
     "name": "stdout",
     "output_type": "stream",
     "text": [
      " Male      21790\n",
      " Female    10771\n",
      "Name: sex, dtype: int64\n"
     ]
    }
   ],
   "source": [
    "print(df['sex'].value_counts())"
   ]
  },
  {
   "cell_type": "code",
   "execution_count": 18,
   "id": "630eb39c",
   "metadata": {},
   "outputs": [
    {
     "data": {
      "text/plain": [
       "1    21790\n",
       "0    10771\n",
       "Name: sex, dtype: int64"
      ]
     },
     "execution_count": 18,
     "metadata": {},
     "output_type": "execute_result"
    }
   ],
   "source": [
    "df['sex'] = lb.fit_transform(df['sex'])\n",
    "df['sex'].value_counts()"
   ]
  },
  {
   "cell_type": "code",
   "execution_count": 19,
   "id": "d8cdac53",
   "metadata": {},
   "outputs": [
    {
     "name": "stdout",
     "output_type": "stream",
     "text": [
      " United-States                 29170\n",
      " Mexico                          643\n",
      " ?                               583\n",
      " Philippines                     198\n",
      " Germany                         137\n",
      " Canada                          121\n",
      " Puerto-Rico                     114\n",
      " El-Salvador                     106\n",
      " India                           100\n",
      " Cuba                             95\n",
      " England                          90\n",
      " Jamaica                          81\n",
      " South                            80\n",
      " China                            75\n",
      " Italy                            73\n",
      " Dominican-Republic               70\n",
      " Vietnam                          67\n",
      " Guatemala                        64\n",
      " Japan                            62\n",
      " Poland                           60\n",
      " Columbia                         59\n",
      " Taiwan                           51\n",
      " Haiti                            44\n",
      " Iran                             43\n",
      " Portugal                         37\n",
      " Nicaragua                        34\n",
      " Peru                             31\n",
      " France                           29\n",
      " Greece                           29\n",
      " Ecuador                          28\n",
      " Ireland                          24\n",
      " Hong                             20\n",
      " Cambodia                         19\n",
      " Trinadad&Tobago                  19\n",
      " Laos                             18\n",
      " Thailand                         18\n",
      " Yugoslavia                       16\n",
      " Outlying-US(Guam-USVI-etc)       14\n",
      " Honduras                         13\n",
      " Hungary                          13\n",
      " Scotland                         12\n",
      " Holand-Netherlands                1\n",
      "Name: native_country, dtype: int64\n"
     ]
    }
   ],
   "source": [
    "print(df['native_country'].value_counts())"
   ]
  },
  {
   "cell_type": "code",
   "execution_count": 20,
   "id": "530ac087",
   "metadata": {},
   "outputs": [
    {
     "data": {
      "text/plain": [
       "39    29170\n",
       "26      643\n",
       "0       583\n",
       "30      198\n",
       "11      137\n",
       "2       121\n",
       "33      114\n",
       "8       106\n",
       "19      100\n",
       "5        95\n",
       "9        90\n",
       "23       81\n",
       "35       80\n",
       "3        75\n",
       "22       73\n",
       "6        70\n",
       "40       67\n",
       "13       64\n",
       "24       62\n",
       "31       60\n",
       "4        59\n",
       "36       51\n",
       "14       44\n",
       "20       43\n",
       "32       37\n",
       "27       34\n",
       "29       31\n",
       "10       29\n",
       "12       29\n",
       "7        28\n",
       "21       24\n",
       "17       20\n",
       "1        19\n",
       "38       19\n",
       "25       18\n",
       "37       18\n",
       "41       16\n",
       "28       14\n",
       "16       13\n",
       "18       13\n",
       "34       12\n",
       "15        1\n",
       "Name: native_country, dtype: int64"
      ]
     },
     "execution_count": 20,
     "metadata": {},
     "output_type": "execute_result"
    }
   ],
   "source": [
    "df['native_country'] = lb.fit_transform(df['native_country'])\n",
    "df['native_country'].value_counts()"
   ]
  },
  {
   "cell_type": "code",
   "execution_count": 21,
   "id": "57a01a93",
   "metadata": {},
   "outputs": [
    {
     "name": "stdout",
     "output_type": "stream",
     "text": [
      " <=50K    24720\n",
      " >50K      7841\n",
      "Name: income, dtype: int64\n"
     ]
    }
   ],
   "source": [
    "print(df['income'].value_counts())"
   ]
  },
  {
   "cell_type": "code",
   "execution_count": 22,
   "id": "cf48c82b",
   "metadata": {},
   "outputs": [
    {
     "data": {
      "text/plain": [
       "0    24720\n",
       "1     7841\n",
       "Name: income, dtype: int64"
      ]
     },
     "execution_count": 22,
     "metadata": {},
     "output_type": "execute_result"
    }
   ],
   "source": [
    "df['income'] = lb.fit_transform(df['income'])\n",
    "df['income'].value_counts()"
   ]
  },
  {
   "cell_type": "code",
   "execution_count": 23,
   "id": "88d65791",
   "metadata": {},
   "outputs": [
    {
     "data": {
      "text/plain": [
       "Age               int64\n",
       "Workclass         int32\n",
       "Fnlwgt            int64\n",
       "Education         int32\n",
       "education_num     int64\n",
       "marital_status    int32\n",
       "occupation        int32\n",
       "relationship      int32\n",
       "race              int32\n",
       "sex               int32\n",
       "capital_gain      int64\n",
       "capital_loss      int64\n",
       "hours_per_week    int64\n",
       "native_country    int32\n",
       "income            int32\n",
       "dtype: object"
      ]
     },
     "execution_count": 23,
     "metadata": {},
     "output_type": "execute_result"
    }
   ],
   "source": [
    "# Confirming all transformations from object datatype\n",
    "df.dtypes"
   ]
  },
  {
   "cell_type": "code",
   "execution_count": 24,
   "id": "0e9715a4",
   "metadata": {},
   "outputs": [
    {
     "name": "stdout",
     "output_type": "stream",
     "text": [
      "(32561, 14)\n",
      "(32561,)\n",
      "<class 'pandas.core.frame.DataFrame'>\n",
      "<class 'pandas.core.series.Series'>\n"
     ]
    }
   ],
   "source": [
    "# Extracting concepts and target variable/s\n",
    "x = df.iloc[:,:-1]\n",
    "y = df.iloc[:,-1]\n",
    "\n",
    "print(x.shape)\n",
    "print(y.shape)\n",
    "print(type(x))\n",
    "print(type(y))"
   ]
  },
  {
   "cell_type": "markdown",
   "id": "a06ddd0c",
   "metadata": {},
   "source": [
    "### 3) Split data into training and test data."
   ]
  },
  {
   "cell_type": "code",
   "execution_count": 25,
   "id": "52a96430",
   "metadata": {},
   "outputs": [
    {
     "name": "stdout",
     "output_type": "stream",
     "text": [
      "(24420, 14)\n",
      "(8141, 14)\n",
      "(24420,)\n",
      "(8141,)\n"
     ]
    }
   ],
   "source": [
    "x_tr, x_te, y_tr, y_te = train_test_split(x,y,test_size=0.25)\n",
    "print(x_tr.shape)\n",
    "print(x_te.shape)\n",
    "print(y_tr.shape)\n",
    "print(y_te.shape)"
   ]
  },
  {
   "cell_type": "markdown",
   "id": "93fee95a",
   "metadata": {},
   "source": [
    "### 4) Apply the following models on the training dataset and generate the predicted value for the \n",
    "### test dataset\n",
    "### a. Decision Tree\n",
    "### b. Random Forest Classifier\n",
    "### c. Logistic Regression\n",
    "### d. KNN Classifier\n",
    "### e. SVC Classifier (with linear kernel) \n",
    "\n",
    "### 5)Predict the income for test data\n",
    "\n",
    "### 6)Compute Confusion matrix and classification report for each of these models.\n",
    "\n",
    "### 7)Validate the result for Precision, Recall, F1-score and Accuracy for each model based on values \n",
    "### from confusion_matrix and classification_report "
   ]
  },
  {
   "cell_type": "code",
   "execution_count": 26,
   "id": "2aa30be9",
   "metadata": {},
   "outputs": [],
   "source": [
    "# importing libraries\n",
    "from sklearn.linear_model import LogisticRegression\n",
    "from sklearn.tree import DecisionTreeClassifier\n",
    "from sklearn.ensemble import RandomForestClassifier\n",
    "from sklearn.svm import SVC\n",
    "from sklearn.neighbors import KNeighborsClassifier\n",
    "\n",
    "import seaborn as sns\n",
    "from sklearn.metrics import confusion_matrix, classification_report\n",
    "from sklearn.metrics import precision_score, recall_score, f1_score, accuracy_score"
   ]
  },
  {
   "cell_type": "code",
   "execution_count": 27,
   "id": "71e7f33f",
   "metadata": {},
   "outputs": [],
   "source": [
    "# defining a function to apply model\n",
    "def apply_model(model):\n",
    "    model.fit(x_tr, y_tr)\n",
    "    print(\"Accuracy : \", model.score(x_te, y_te))\n",
    "    ypred = model.predict(x_te)\n",
    "    print(\"Predicted Values: \",ypred)\n",
    "    \n",
    "    print(\"Confusion Matrix : \\n\",confusion_matrix(y_te, ypred))\n",
    "    sns.heatmap(confusion_matrix(y_te, ypred),annot=True)\n",
    "    plt.show()\n",
    "    print(\"Classification Report : \\n\", classification_report(y_te, ypred))\n",
    "    \n",
    "    print(\"Validation: \")\n",
    "    cm = confusion_matrix(y_te, ypred)\n",
    "    TP = cm[1][1]\n",
    "    FN = cm[0][1]\n",
    "    FP = cm[1][0]\n",
    "    TN = cm[0][0]\n",
    "    recall=  TP / (FP + TP)\n",
    "    precision= TP / (FN + TP)\n",
    "    f_score = (2*precision*recall)/(precision+recall)\n",
    "    print(\"Using Formula:\")\n",
    "    print('Precision: ', precision )\n",
    "    print('Recall: ', recall )\n",
    "    print('Accuracy: ', ((TP + TN)/ (TP + FN + TN + FP)))\n",
    "    print(\"F1 Score: \", f_score)\n",
    "    \n",
    "    print(\"\\nUsing Library:\")\n",
    "    print('Precision: %.3f' % precision_score(y_te, ypred))\n",
    "    print('Recall: %.3f' % recall_score(y_te, ypred))\n",
    "    print('Accuracy: %.3f' % accuracy_score(y_te, ypred))\n",
    "    print('F1 Score: %.3f' % f1_score(y_te, ypred))"
   ]
  },
  {
   "cell_type": "markdown",
   "id": "487528af",
   "metadata": {},
   "source": [
    "### a) Decision Tree Classifier"
   ]
  },
  {
   "cell_type": "code",
   "execution_count": 28,
   "id": "03c71061",
   "metadata": {},
   "outputs": [
    {
     "name": "stdout",
     "output_type": "stream",
     "text": [
      "Accuracy :  0.8551774966220366\n",
      "Predicted Values:  [0 0 0 ... 1 0 0]\n",
      "Confusion Matrix : \n",
      " [[5897  280]\n",
      " [ 899 1065]]\n"
     ]
    },
    {
     "data": {
      "image/png": "[encoded data removed]",
      "text/plain": [
       "<Figure size 432x288 with 2 Axes>"
      ]
     },
     "metadata": {
      "needs_background": "light"
     },
     "output_type": "display_data"
    },
    {
     "name": "stdout",
     "output_type": "stream",
     "text": [
      "Classification Report : \n",
      "               precision    recall  f1-score   support\n",
      "\n",
      "           0       0.87      0.95      0.91      6177\n",
      "           1       0.79      0.54      0.64      1964\n",
      "\n",
      "    accuracy                           0.86      8141\n",
      "   macro avg       0.83      0.75      0.78      8141\n",
      "weighted avg       0.85      0.86      0.85      8141\n",
      "\n",
      "Validation: \n",
      "Using Formula:\n",
      "Precision:  0.79182156133829\n",
      "Recall:  0.5422606924643585\n",
      "Accuracy:  0.8551774966220366\n",
      "F1 Score:  0.6436990027198549\n",
      "\n",
      "Using Library:\n",
      "Precision: 0.792\n",
      "Recall: 0.542\n",
      "Accuracy: 0.855\n",
      "F1 Score: 0.644\n"
     ]
    }
   ],
   "source": [
    "m1 = DecisionTreeClassifier(criterion = 'gini', max_depth=5, min_samples_split=10)\n",
    "apply_model(m1)"
   ]
  },
  {
   "cell_type": "markdown",
   "id": "bb876057",
   "metadata": {},
   "source": [
    "### b) Random Forest Regression"
   ]
  },
  {
   "cell_type": "code",
   "execution_count": 29,
   "id": "ea70babb",
   "metadata": {},
   "outputs": [
    {
     "name": "stdout",
     "output_type": "stream",
     "text": [
      "Accuracy :  0.850141260287434\n",
      "Predicted Values:  [0 0 0 ... 1 0 0]\n",
      "Confusion Matrix : \n",
      " [[5932  245]\n",
      " [ 975  989]]\n"
     ]
    },
    {
     "data": {
      "image/png": "[encoded data removed]",
      "text/plain": [
       "<Figure size 432x288 with 2 Axes>"
      ]
     },
     "metadata": {
      "needs_background": "light"
     },
     "output_type": "display_data"
    },
    {
     "name": "stdout",
     "output_type": "stream",
     "text": [
      "Classification Report : \n",
      "               precision    recall  f1-score   support\n",
      "\n",
      "           0       0.86      0.96      0.91      6177\n",
      "           1       0.80      0.50      0.62      1964\n",
      "\n",
      "    accuracy                           0.85      8141\n",
      "   macro avg       0.83      0.73      0.76      8141\n",
      "weighted avg       0.84      0.85      0.84      8141\n",
      "\n",
      "Validation: \n",
      "Using Formula:\n",
      "Precision:  0.8014586709886548\n",
      "Recall:  0.5035641547861507\n",
      "Accuracy:  0.850141260287434\n",
      "F1 Score:  0.6185115697310818\n",
      "\n",
      "Using Library:\n",
      "Precision: 0.801\n",
      "Recall: 0.504\n",
      "Accuracy: 0.850\n",
      "F1 Score: 0.619\n"
     ]
    }
   ],
   "source": [
    "m2 = RandomForestClassifier(n_estimators=70, criterion='gini', max_depth=5,min_samples_split=10)\n",
    "apply_model(m2)"
   ]
  },
  {
   "cell_type": "markdown",
   "id": "1935d301",
   "metadata": {},
   "source": [
    "### c) Logistic Regression"
   ]
  },
  {
   "cell_type": "code",
   "execution_count": 30,
   "id": "bd052b56",
   "metadata": {},
   "outputs": [
    {
     "name": "stdout",
     "output_type": "stream",
     "text": [
      "Accuracy :  0.7881095688490357\n",
      "Predicted Values:  [0 0 0 ... 1 1 0]\n",
      "Confusion Matrix : \n",
      " [[5848  329]\n",
      " [1396  568]]\n"
     ]
    },
    {
     "data": {
      "image/png": "[encoded data removed]",
      "text/plain": [
       "<Figure size 432x288 with 2 Axes>"
      ]
     },
     "metadata": {
      "needs_background": "light"
     },
     "output_type": "display_data"
    },
    {
     "name": "stdout",
     "output_type": "stream",
     "text": [
      "Classification Report : \n",
      "               precision    recall  f1-score   support\n",
      "\n",
      "           0       0.81      0.95      0.87      6177\n",
      "           1       0.63      0.29      0.40      1964\n",
      "\n",
      "    accuracy                           0.79      8141\n",
      "   macro avg       0.72      0.62      0.63      8141\n",
      "weighted avg       0.77      0.79      0.76      8141\n",
      "\n",
      "Validation: \n",
      "Using Formula:\n",
      "Precision:  0.633221850613155\n",
      "Recall:  0.2892057026476578\n",
      "Accuracy:  0.7881095688490357\n",
      "F1 Score:  0.3970639636490737\n",
      "\n",
      "Using Library:\n",
      "Precision: 0.633\n",
      "Recall: 0.289\n",
      "Accuracy: 0.788\n",
      "F1 Score: 0.397\n"
     ]
    }
   ],
   "source": [
    "m3 =LogisticRegression()\n",
    "apply_model(m3)"
   ]
  },
  {
   "cell_type": "markdown",
   "id": "79b888a9",
   "metadata": {},
   "source": [
    "### d) KNearest Neighbors"
   ]
  },
  {
   "cell_type": "code",
   "execution_count": 31,
   "id": "e439a456",
   "metadata": {},
   "outputs": [
    {
     "name": "stdout",
     "output_type": "stream",
     "text": [
      "Accuracy :  0.7983048765507923\n",
      "Predicted Values:  [0 0 0 ... 0 1 0]\n",
      "Confusion Matrix : \n",
      " [[6124   53]\n",
      " [1589  375]]\n"
     ]
    },
    {
     "data": {
      "image/png": "[encoded data removed]",
      "text/plain": [
       "<Figure size 432x288 with 2 Axes>"
      ]
     },
     "metadata": {
      "needs_background": "light"
     },
     "output_type": "display_data"
    },
    {
     "name": "stdout",
     "output_type": "stream",
     "text": [
      "Classification Report : \n",
      "               precision    recall  f1-score   support\n",
      "\n",
      "           0       0.79      0.99      0.88      6177\n",
      "           1       0.88      0.19      0.31      1964\n",
      "\n",
      "    accuracy                           0.80      8141\n",
      "   macro avg       0.84      0.59      0.60      8141\n",
      "weighted avg       0.81      0.80      0.74      8141\n",
      "\n",
      "Validation: \n",
      "Using Formula:\n",
      "Precision:  0.8761682242990654\n",
      "Recall:  0.1909368635437882\n",
      "Accuracy:  0.7983048765507923\n",
      "F1 Score:  0.31354515050167225\n",
      "\n",
      "Using Library:\n",
      "Precision: 0.876\n",
      "Recall: 0.191\n",
      "Accuracy: 0.798\n",
      "F1 Score: 0.314\n"
     ]
    }
   ],
   "source": [
    "m4 = KNeighborsClassifier(n_neighbors=27)\n",
    "apply_model(m4)"
   ]
  },
  {
   "cell_type": "markdown",
   "id": "3e641be9",
   "metadata": {},
   "source": [
    "### e) SVM"
   ]
  },
  {
   "cell_type": "code",
   "execution_count": 32,
   "id": "78dde1e1",
   "metadata": {},
   "outputs": [],
   "source": [
    "model = SVC(kernel = 'linear',C=1)\n"
   ]
  },
  {
   "cell_type": "code",
   "execution_count": null,
   "id": "d0c16bd0",
   "metadata": {},
   "outputs": [],
   "source": [
    "model.fit(x_tr, y_tr)\n",
    "print(\"Accuracy : \", model.score(x_te, y_te))"
   ]
  },
  {
   "cell_type": "code",
   "execution_count": null,
   "id": "77395261",
   "metadata": {},
   "outputs": [],
   "source": [
    "ypred = model.predict(x_te)\n",
    "print(\"Predicted Values: \",ypred)"
   ]
  },
  {
   "cell_type": "code",
   "execution_count": null,
   "id": "65f364df",
   "metadata": {},
   "outputs": [],
   "source": [
    "print(\"Confusion Matrix : \\n\",confusion_matrix(y_te, ypred))\n",
    "sns.heatmap(confusion_matrix(y_te, ypred),annot=True)\n",
    "plt.show()\n",
    "print(\"Classification Report : \\n\", classification_report(y_te, ypred))"
   ]
  },
  {
   "cell_type": "code",
   "execution_count": null,
   "id": "786c82fb",
   "metadata": {},
   "outputs": [],
   "source": [
    "print(\"Validation: \")\n",
    "cm = confusion_matrix(y_te, ypred)\n",
    "TP = cm[1][1]\n",
    "FN = cm[0][1]\n",
    "FP = cm[1][0]\n",
    "TN = cm[0][0]\n",
    "recall=  TP / (FP + TP)\n",
    "precision= TP / (FN + TP)\n",
    "f_score = (2*precision*recall)/(precision+recall)\n",
    "print(\"Using Formula:\")\n",
    "print('Precision: ', precision )\n",
    "print('Recall: ', recall )\n",
    "print('Accuracy: ', ((TP + TN)/ (TP + FN + TN + FP)))\n",
    "print(\"F1 Score: \", f_score)\n",
    "\n",
    "print(\"\\nUsing Library:\")\n",
    "print('Precision: %.3f' % precision_score(y_te, ypred))\n",
    "print('Recall: %.3f' % recall_score(y_te, ypred))\n",
    "print('Accuracy: %.3f' % accuracy_score(y_te, ypred))\n",
    "print('F1 Score: %.3f' % f1_score(y_te, ypred))"
   ]
  },
  {
   "cell_type": "markdown",
   "id": "db21e9fd",
   "metadata": {},
   "source": [
    "### 8) Report the model with the best accuracy"
   ]
  },
  {
   "cell_type": "code",
   "execution_count": 33,
   "id": "87d1e1df",
   "metadata": {},
   "outputs": [
    {
     "name": "stdout",
     "output_type": "stream",
     "text": [
      "Best Suitable model is DecisionTreeClassifier(max_depth=5, min_samples_split=10)  and accuracy is  0.8551774966220366\n"
     ]
    }
   ],
   "source": [
    "maxi = m1.score(x_te, y_te);\n",
    "best = m1;\n",
    "for i in [m1, m2, m3, m4]:\n",
    "    if i.score(x_te,y_te)>maxi:\n",
    "        maxi = i.score(x_te,y_te)\n",
    "        best = i\n",
    "\n",
    "print(\"Best Suitable model is\",best,\" and accuracy is \",maxi)"
   ]
  },
  {
   "cell_type": "code",
   "execution_count": null,
   "id": "3d9d2b74",
   "metadata": {},
   "outputs": [],
   "source": []
  },
  {
   "cell_type": "code",
   "execution_count": null,
   "id": "1d243aff",
   "metadata": {},
   "outputs": [],
   "source": []
  },
  {
   "cell_type": "code",
   "execution_count": null,
   "id": "be5d7215",
   "metadata": {},
   "outputs": [],
   "source": []
  },
  {
   "cell_type": "code",
   "execution_count": null,
   "id": "27921c31",
   "metadata": {},
   "outputs": [],
   "source": []
  }
 ],
 "metadata": {
  "kernelspec": {
   "display_name": "Python 3 (ipykernel)",
   "language": "python",
   "name": "python3"
  },
  "language_info": {
   "codemirror_mode": {
    "name": "ipython",
    "version": 3
   },
   "file_extension": ".py",
   "mimetype": "text/x-python",
   "name": "python",
   "nbconvert_exporter": "python",
   "pygments_lexer": "ipython3",
   "version": "3.9.7"
  }
 },
 "nbformat": 4,
 "nbformat_minor": 5
}
